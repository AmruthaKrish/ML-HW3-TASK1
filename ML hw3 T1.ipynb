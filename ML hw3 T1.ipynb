{
 "cells": [
  {
   "cell_type": "code",
   "execution_count": 22,
   "metadata": {},
   "outputs": [],
   "source": [
    "import numpy as np\n",
    "import pandas as pd\n",
    "#from sklearn.cluster import KMeans\n",
    "import scipy \n",
    "import sklearn\n",
    "from collections import Counter\n",
    "from sklearn.metrics import multilabel_confusion_matrix\n",
    "from scipy import spatial"
   ]
  },
  {
   "cell_type": "code",
   "execution_count": 23,
   "metadata": {},
   "outputs": [],
   "source": [
    "data = pd.read_csv(r\"C:\\Users\\Dell\\Downloads\\data.csv\")\n",
    "labels = pd.read_csv(r\"C:\\Users\\Dell\\Downloads\\label.csv\",names=['label'],header=None)"
   ]
  },
  {
   "cell_type": "code",
   "execution_count": 24,
   "metadata": {},
   "outputs": [
    {
     "data": {
      "text/html": [
       "<div>\n",
       "<style scoped>\n",
       "    .dataframe tbody tr th:only-of-type {\n",
       "        vertical-align: middle;\n",
       "    }\n",
       "\n",
       "    .dataframe tbody tr th {\n",
       "        vertical-align: top;\n",
       "    }\n",
       "\n",
       "    .dataframe thead th {\n",
       "        text-align: right;\n",
       "    }\n",
       "</style>\n",
       "<table border=\"1\" class=\"dataframe\">\n",
       "  <thead>\n",
       "    <tr style=\"text-align: right;\">\n",
       "      <th></th>\n",
       "      <th>0</th>\n",
       "      <th>0.1</th>\n",
       "      <th>0.2</th>\n",
       "      <th>0.3</th>\n",
       "      <th>0.4</th>\n",
       "      <th>0.5</th>\n",
       "      <th>0.6</th>\n",
       "      <th>0.7</th>\n",
       "      <th>0.8</th>\n",
       "      <th>0.9</th>\n",
       "      <th>...</th>\n",
       "      <th>0.658</th>\n",
       "      <th>0.659</th>\n",
       "      <th>0.660</th>\n",
       "      <th>0.661</th>\n",
       "      <th>0.662</th>\n",
       "      <th>0.663</th>\n",
       "      <th>0.664</th>\n",
       "      <th>0.665</th>\n",
       "      <th>0.666</th>\n",
       "      <th>0.667</th>\n",
       "    </tr>\n",
       "  </thead>\n",
       "  <tbody>\n",
       "    <tr>\n",
       "      <th>0</th>\n",
       "      <td>0</td>\n",
       "      <td>0</td>\n",
       "      <td>0</td>\n",
       "      <td>0</td>\n",
       "      <td>0</td>\n",
       "      <td>0</td>\n",
       "      <td>0</td>\n",
       "      <td>0</td>\n",
       "      <td>0</td>\n",
       "      <td>0</td>\n",
       "      <td>...</td>\n",
       "      <td>0</td>\n",
       "      <td>0</td>\n",
       "      <td>0</td>\n",
       "      <td>0</td>\n",
       "      <td>0</td>\n",
       "      <td>0</td>\n",
       "      <td>0</td>\n",
       "      <td>0</td>\n",
       "      <td>0</td>\n",
       "      <td>0</td>\n",
       "    </tr>\n",
       "    <tr>\n",
       "      <th>1</th>\n",
       "      <td>0</td>\n",
       "      <td>0</td>\n",
       "      <td>0</td>\n",
       "      <td>0</td>\n",
       "      <td>0</td>\n",
       "      <td>0</td>\n",
       "      <td>0</td>\n",
       "      <td>0</td>\n",
       "      <td>0</td>\n",
       "      <td>0</td>\n",
       "      <td>...</td>\n",
       "      <td>0</td>\n",
       "      <td>0</td>\n",
       "      <td>0</td>\n",
       "      <td>0</td>\n",
       "      <td>0</td>\n",
       "      <td>0</td>\n",
       "      <td>0</td>\n",
       "      <td>0</td>\n",
       "      <td>0</td>\n",
       "      <td>0</td>\n",
       "    </tr>\n",
       "    <tr>\n",
       "      <th>2</th>\n",
       "      <td>0</td>\n",
       "      <td>0</td>\n",
       "      <td>0</td>\n",
       "      <td>0</td>\n",
       "      <td>0</td>\n",
       "      <td>0</td>\n",
       "      <td>0</td>\n",
       "      <td>0</td>\n",
       "      <td>0</td>\n",
       "      <td>0</td>\n",
       "      <td>...</td>\n",
       "      <td>0</td>\n",
       "      <td>0</td>\n",
       "      <td>0</td>\n",
       "      <td>0</td>\n",
       "      <td>0</td>\n",
       "      <td>0</td>\n",
       "      <td>0</td>\n",
       "      <td>0</td>\n",
       "      <td>0</td>\n",
       "      <td>0</td>\n",
       "    </tr>\n",
       "    <tr>\n",
       "      <th>3</th>\n",
       "      <td>0</td>\n",
       "      <td>0</td>\n",
       "      <td>0</td>\n",
       "      <td>0</td>\n",
       "      <td>0</td>\n",
       "      <td>0</td>\n",
       "      <td>0</td>\n",
       "      <td>0</td>\n",
       "      <td>0</td>\n",
       "      <td>0</td>\n",
       "      <td>...</td>\n",
       "      <td>0</td>\n",
       "      <td>0</td>\n",
       "      <td>0</td>\n",
       "      <td>0</td>\n",
       "      <td>0</td>\n",
       "      <td>0</td>\n",
       "      <td>0</td>\n",
       "      <td>0</td>\n",
       "      <td>0</td>\n",
       "      <td>0</td>\n",
       "    </tr>\n",
       "    <tr>\n",
       "      <th>4</th>\n",
       "      <td>0</td>\n",
       "      <td>0</td>\n",
       "      <td>0</td>\n",
       "      <td>0</td>\n",
       "      <td>0</td>\n",
       "      <td>0</td>\n",
       "      <td>0</td>\n",
       "      <td>0</td>\n",
       "      <td>0</td>\n",
       "      <td>0</td>\n",
       "      <td>...</td>\n",
       "      <td>0</td>\n",
       "      <td>0</td>\n",
       "      <td>0</td>\n",
       "      <td>0</td>\n",
       "      <td>0</td>\n",
       "      <td>0</td>\n",
       "      <td>0</td>\n",
       "      <td>0</td>\n",
       "      <td>0</td>\n",
       "      <td>0</td>\n",
       "    </tr>\n",
       "  </tbody>\n",
       "</table>\n",
       "<p>5 rows × 784 columns</p>\n",
       "</div>"
      ],
      "text/plain": [
       "   0  0.1  0.2  0.3  0.4  0.5  0.6  0.7  0.8  0.9  ...  0.658  0.659  0.660  \\\n",
       "0  0    0    0    0    0    0    0    0    0    0  ...      0      0      0   \n",
       "1  0    0    0    0    0    0    0    0    0    0  ...      0      0      0   \n",
       "2  0    0    0    0    0    0    0    0    0    0  ...      0      0      0   \n",
       "3  0    0    0    0    0    0    0    0    0    0  ...      0      0      0   \n",
       "4  0    0    0    0    0    0    0    0    0    0  ...      0      0      0   \n",
       "\n",
       "   0.661  0.662  0.663  0.664  0.665  0.666  0.667  \n",
       "0      0      0      0      0      0      0      0  \n",
       "1      0      0      0      0      0      0      0  \n",
       "2      0      0      0      0      0      0      0  \n",
       "3      0      0      0      0      0      0      0  \n",
       "4      0      0      0      0      0      0      0  \n",
       "\n",
       "[5 rows x 784 columns]"
      ]
     },
     "execution_count": 24,
     "metadata": {},
     "output_type": "execute_result"
    }
   ],
   "source": [
    "data.head()"
   ]
  },
  {
   "cell_type": "code",
   "execution_count": 25,
   "metadata": {},
   "outputs": [
    {
     "data": {
      "text/plain": [
       "0        9999\n",
       "0.1      9999\n",
       "0.2      9999\n",
       "0.3      9999\n",
       "0.4      9999\n",
       "         ... \n",
       "0.663    9999\n",
       "0.664    9999\n",
       "0.665    9999\n",
       "0.666    9999\n",
       "0.667    9999\n",
       "Length: 784, dtype: int64"
      ]
     },
     "execution_count": 25,
     "metadata": {},
     "output_type": "execute_result"
    }
   ],
   "source": [
    "data.count()"
   ]
  },
  {
   "cell_type": "code",
   "execution_count": 26,
   "metadata": {},
   "outputs": [],
   "source": [
    "#Split data\n",
    "from sklearn.model_selection import train_test_split\n",
    "train_data, test_data = train_test_split( data, test_size=0.08, random_state=42)\n",
    "train_labels, test_labels = train_test_split( labels, test_size=0.08, random_state=42)"
   ]
  },
  {
   "cell_type": "code",
   "execution_count": 27,
   "metadata": {},
   "outputs": [],
   "source": [
    "class KMeans:\n",
    "    \n",
    "    def calculate_SSE(self, centroid_value_dict, centroid_dict,data):\n",
    "        sse_data = 0\n",
    "        for i in centroid_dict:\n",
    "            sse_cluster = 0\n",
    "            # np.sum()\n",
    "            for j in centroid_dict[i]:\n",
    "                dp = list(data.iloc[int(j)])\n",
    "                for a,b in zip(centroid_value_dict[i],dp):\n",
    "                    sse_cluster += (a-b)**2\n",
    "            sse_data+=sse_cluster\n",
    "        return sse_data    \n",
    "    \n",
    "    def Initialize_Centroids(self,data,K):\n",
    "        m = data.shape[0]\n",
    "        centroid_value_dict={}\n",
    "        for i in range(K):\n",
    "            r = np.random.randint(0, m-1)\n",
    "            centroid_value_dict[i] = data.iloc[r]\n",
    "        return centroid_value_dict\n",
    "    \n",
    "    def jaccard_similarity(self,centroid, dp):\n",
    "        intersection = len(list(set(centroid).intersection(dp)))\n",
    "        union = (len(set(centroid)) + len(set(dp))) - intersection\n",
    "        return float(intersection) / union\n",
    "\n",
    "    def train_Kmeans(self,data,K,max_iter=20,mode=1,tol=10):\n",
    "        #Mode = 1 => Euclidean np.linalg.norm(x-list(data.iloc[i,:]))\n",
    "        #Mode = 2 => Jaccard\n",
    "        #Mode = 3 => Cosine\n",
    "        centroid_value_dict = self.Initialize_Centroids(data,K)\n",
    "        new_centroid_value_dict = {}\n",
    "        count = 0\n",
    "        centroid_dict = {}\n",
    "        convergence = False\n",
    "        while((count<max_iter) and not convergence):\n",
    "            \n",
    "            for i in list(centroid_value_dict.keys()):\n",
    "                centroid_dict[i]=[]\n",
    "            for i in range(data.shape[0]):\n",
    "                x = data.iloc[i]\n",
    "                if mode==1 :\n",
    "                    distance_measure = [np.linalg.norm(x-centroid_value_dict[j])  for j in centroid_value_dict]\n",
    "                    idx = np.argmin(distance_measure)\n",
    "                    centroid_dict[idx].append(i)\n",
    "                elif mode==2 :\n",
    "                    distance_measure = [self.jaccard_similarity(list(x),centroid_value_dict[j]) for j in centroid_value_dict]\n",
    "                    idx = np.argmax(distance_measure)\n",
    "                    centroid_dict[idx].append(i)\n",
    "                elif mode==3 :\n",
    "                    distance_measure = [1-scipy.spatial.distance.cosine(x,list(centroid_value_dict[j]))  for j in centroid_value_dict]\n",
    "                    idx = np.argmax(distance_measure)\n",
    "                    centroid_dict[idx].append(i)\n",
    "                \n",
    "                prev_centroids=dict(centroid_value_dict)\n",
    "                \n",
    "            \n",
    "            for i in centroid_dict:\n",
    "                if len(centroid_dict[i]):\n",
    "                    dps_centroid = centroid_dict[i]\n",
    "                    centroid_value_dict[i] = np.average(data.iloc[dps_centroid],axis=0)\n",
    "            \n",
    "            \n",
    "            current_tol=-1\n",
    "            for i in centroid_value_dict:\n",
    "                prev_centroid_point = prev_centroids[i]\n",
    "                new_centroid_point = centroid_value_dict[i]\n",
    "                change = np.sum(np.absolute(new_centroid_point-prev_centroid_point))\n",
    "                current_tol = max(change, current_tol)\n",
    "                \n",
    "            print(\"Tolerance for the Iteration \",count,\": \",current_tol)\n",
    "            \n",
    "            count+=1\n",
    "            if (current_tol<10):\n",
    "                convergence = True\n",
    "                break\n",
    "           # print(\"KMeans Iteration\",count)\n",
    "        return centroid_value_dict,centroid_dict\n",
    "\n",
    "def predict_cluster_labels(C, S, labels):\n",
    "    '''\n",
    "    Input : C -> Centroids\n",
    "            S -> Set of Indicies corresponding to Centroid C\n",
    "            data -> Data used to form clusters\n",
    "    Output : Returns an array of size K having labels based on majority voting in the cluster\n",
    "    '''\n",
    "    cluster_labels = np.zeros(10,dtype=int)\n",
    "    for c in C:\n",
    "        labels_of_points = []\n",
    "        for point in S[c]:\n",
    "            labels_of_points.extend(labels.iloc[point])\n",
    "        counter = Counter(labels_of_points)\n",
    "        try:\n",
    "            cluster_labels[c] = max(counter, key=counter.get)\n",
    "        except:\n",
    "            cluster_labels[c] = np.random.randint(0,9)\n",
    "    return cluster_labels\n",
    "\n",
    "def jaccard_similarity(centroid, dp):\n",
    "        intersection = len(list(set(centroid).intersection(dp)))\n",
    "        union = (len(set(centroid)) + len(set(dp))) - intersection\n",
    "        return float(intersection) / union\n",
    "\n",
    "def accuracy(centroids, centroid_Labels, test_data, true_labels, mode=1):\n",
    "    y_true = list(true_labels['label']);\n",
    "    y_pred = []\n",
    "    for index in range(test_data.shape[0]):\n",
    "        featureset = test_data.iloc[index]\n",
    "        if mode==1:\n",
    "            distances = [np.linalg.norm(featureset - centroids[centroid]) for centroid in centroids]\n",
    "            classification = distances.index(min(distances))\n",
    "            y_pred.append(centroid_Labels[classification])\n",
    "        elif mode==2:\n",
    "            similarity = [jaccard_similarity(featureset, centroids[centroid]) for centroid in centroids]\n",
    "            classification = similarity.index(max(similarity))\n",
    "            y_pred.append(centroid_Labels[classification]) \n",
    "        elif mode==3:\n",
    "            similarity = [1 - spatial.distance.cosine(featureset, centroids[centroid]) for centroid in centroids]\n",
    "            classification = similarity.index(max(similarity))\n",
    "            y_pred.append(centroid_Labels[classification])\n",
    "    denominator = test_data.shape[0]\n",
    "    correctly_classified = 0\n",
    "    for i in range(0,len(y_pred)):\n",
    "        if y_true[i] == y_pred[i]:\n",
    "            correctly_classified += 1\n",
    "    accuracy = correctly_classified/denominator\n",
    "    return accuracy"
   ]
  },
  {
   "cell_type": "code",
   "execution_count": 28,
   "metadata": {},
   "outputs": [
    {
     "name": "stdout",
     "output_type": "stream",
     "text": [
      "Tolerance for the Iteration  0 :  32254.23245614035\n",
      "Tolerance for the Iteration  1 :  8296.586141835547\n",
      "Tolerance for the Iteration  2 :  3260.818601851155\n",
      "Tolerance for the Iteration  3 :  2025.034203807486\n",
      "Tolerance for the Iteration  4 :  1732.8522348401511\n",
      "Tolerance for the Iteration  5 :  1963.7397721250659\n",
      "Tolerance for the Iteration  6 :  2041.3231403609047\n",
      "Tolerance for the Iteration  7 :  1829.297414004067\n",
      "Tolerance for the Iteration  8 :  1574.0588610702014\n",
      "Tolerance for the Iteration  9 :  1220.5732089170385\n",
      "Tolerance for the Iteration  10 :  1538.8432524067746\n",
      "Tolerance for the Iteration  11 :  1841.203560649075\n",
      "Tolerance for the Iteration  12 :  2025.0568850478091\n",
      "Tolerance for the Iteration  13 :  1853.022536011841\n",
      "Tolerance for the Iteration  14 :  1304.584630040761\n",
      "Tolerance for the Iteration  15 :  942.8894695046376\n",
      "Tolerance for the Iteration  16 :  701.4182959166651\n",
      "Tolerance for the Iteration  17 :  402.47550564749145\n",
      "Tolerance for the Iteration  18 :  278.2797156208278\n",
      "Tolerance for the Iteration  19 :  243.4376895741228\n",
      "Tolerance for the Iteration  20 :  214.69688900529667\n",
      "Tolerance for the Iteration  21 :  240.92528662766463\n",
      "Tolerance for the Iteration  22 :  195.04274162375162\n",
      "Tolerance for the Iteration  23 :  167.41521780878918\n",
      "Tolerance for the Iteration  24 :  125.89489872316318\n",
      "Tolerance for the Iteration  25 :  123.7351728517856\n",
      "Tolerance for the Iteration  26 :  137.43064527095953\n",
      "Tolerance for the Iteration  27 :  134.12042678774094\n",
      "Tolerance for the Iteration  28 :  180.33667651888328\n",
      "Tolerance for the Iteration  29 :  222.44033940997298\n",
      "Tolerance for the Iteration  30 :  253.78236698572817\n",
      "Tolerance for the Iteration  31 :  189.320021516974\n",
      "Tolerance for the Iteration  32 :  171.9451575262545\n",
      "Tolerance for the Iteration  33 :  142.624818700313\n",
      "Tolerance for the Iteration  34 :  88.58433246657162\n",
      "Tolerance for the Iteration  35 :  91.18340208680624\n",
      "Tolerance for the Iteration  36 :  61.20277395132731\n",
      "Tolerance for the Iteration  37 :  95.19525126036768\n",
      "Tolerance for the Iteration  38 :  60.141025641025685\n",
      "Tolerance for the Iteration  39 :  128.91985992277034\n",
      "Tolerance for the Iteration  40 :  101.88327693099043\n",
      "Tolerance for the Iteration  41 :  68.39358161218625\n",
      "Tolerance for the Iteration  42 :  54.264512400987954\n",
      "Tolerance for the Iteration  43 :  51.46256192977236\n",
      "Tolerance for the Iteration  44 :  77.87042821090341\n",
      "Tolerance for the Iteration  45 :  58.70904630181186\n",
      "Tolerance for the Iteration  46 :  37.16958834412593\n",
      "Tolerance for the Iteration  47 :  57.02787671829746\n",
      "Tolerance for the Iteration  48 :  56.2848087066908\n",
      "Tolerance for the Iteration  49 :  31.905469331276272\n",
      "Tolerance for the Iteration  50 :  20.878705795368134\n",
      "Tolerance for the Iteration  51 :  20.7170640874002\n",
      "Tolerance for the Iteration  52 :  0.0\n"
     ]
    }
   ],
   "source": [
    "model1 = KMeans()\n",
    "centroids1,clusters1 = model1.train_Kmeans(data,10, max_iter=60,mode=1)"
   ]
  },
  {
   "cell_type": "code",
   "execution_count": 29,
   "metadata": {},
   "outputs": [],
   "source": [
    "Euclidean_SSE = model1.calculate_SSE(centroids1,clusters1,data)"
   ]
  },
  {
   "cell_type": "code",
   "execution_count": 30,
   "metadata": {},
   "outputs": [
    {
     "name": "stdout",
     "output_type": "stream",
     "text": [
      "Euclidean SSE: 25400857935.882473\n"
     ]
    }
   ],
   "source": [
    "print(\"Euclidean SSE:\",Euclidean_SSE)"
   ]
  },
  {
   "cell_type": "code",
   "execution_count": 31,
   "metadata": {},
   "outputs": [
    {
     "data": {
      "text/plain": [
       "array([5, 6, 7, 0, 1, 2, 9, 3, 0, 8])"
      ]
     },
     "execution_count": 31,
     "metadata": {},
     "output_type": "execute_result"
    }
   ],
   "source": [
    "cluster_labels1 = predict_cluster_labels(centroids1,clusters1,labels)\n",
    "cluster_labels1"
   ]
  },
  {
   "cell_type": "code",
   "execution_count": 32,
   "metadata": {},
   "outputs": [
    {
     "data": {
      "text/plain": [
       "0.07625"
      ]
     },
     "execution_count": 32,
     "metadata": {},
     "output_type": "execute_result"
    }
   ],
   "source": [
    "Accuracy_Euclidean = accuracy(centroids1, cluster_labels1,test_data,test_labels)\n",
    "Accuracy_Euclidean"
   ]
  },
  {
   "cell_type": "code",
   "execution_count": 33,
   "metadata": {},
   "outputs": [
    {
     "name": "stdout",
     "output_type": "stream",
     "text": [
      "Tolerance for the Iteration  0 :  40359.3950617284\n",
      "Tolerance for the Iteration  1 :  3469.509275145989\n",
      "Tolerance for the Iteration  2 :  2290.128650890556\n",
      "Tolerance for the Iteration  3 :  1214.6573845087632\n",
      "Tolerance for the Iteration  4 :  1808.618239601738\n",
      "Tolerance for the Iteration  5 :  891.6232377427688\n",
      "Tolerance for the Iteration  6 :  2383.0804751063342\n",
      "Tolerance for the Iteration  7 :  1007.4817473639257\n",
      "Tolerance for the Iteration  8 :  1576.5527567992258\n",
      "Tolerance for the Iteration  9 :  1056.6711059994889\n",
      "Tolerance for the Iteration  10 :  1152.0593295702215\n",
      "Tolerance for the Iteration  11 :  1769.8232279749714\n",
      "Tolerance for the Iteration  12 :  626.3967118532889\n",
      "Tolerance for the Iteration  13 :  435.9521602485795\n",
      "Tolerance for the Iteration  14 :  0.0\n"
     ]
    }
   ],
   "source": [
    "model2 = KMeans()\n",
    "centroids2,clusters2 = model2.train_Kmeans(data,10, max_iter=60,mode=2)\n",
    "Jaccard_SSE = model2.calculate_SSE(centroids2,clusters2,data)"
   ]
  },
  {
   "cell_type": "code",
   "execution_count": 35,
   "metadata": {},
   "outputs": [
    {
     "name": "stdout",
     "output_type": "stream",
     "text": [
      "Jacard SSE: 34361687572.938736\n"
     ]
    }
   ],
   "source": [
    "print(\"Jacard SSE:\",Jaccard_SSE)"
   ]
  },
  {
   "cell_type": "code",
   "execution_count": 36,
   "metadata": {},
   "outputs": [
    {
     "data": {
      "text/plain": [
       "array([1, 3, 6, 6, 8, 4, 3, 0, 4, 8])"
      ]
     },
     "execution_count": 36,
     "metadata": {},
     "output_type": "execute_result"
    }
   ],
   "source": [
    "cluster_labels2 = predict_cluster_labels(centroids2,clusters2,labels)\n",
    "cluster_labels2"
   ]
  },
  {
   "cell_type": "code",
   "execution_count": 37,
   "metadata": {},
   "outputs": [
    {
     "data": {
      "text/plain": [
       "0.1075"
      ]
     },
     "execution_count": 37,
     "metadata": {},
     "output_type": "execute_result"
    }
   ],
   "source": [
    "Accuracy_Jaccard = accuracy(centroids2, cluster_labels2,test_data,test_labels)\n",
    "Accuracy_Jaccard"
   ]
  },
  {
   "cell_type": "code",
   "execution_count": 38,
   "metadata": {},
   "outputs": [
    {
     "name": "stdout",
     "output_type": "stream",
     "text": [
      "Tolerance for the Iteration  0 :  28833.31961591221\n",
      "Tolerance for the Iteration  1 :  5549.168226548903\n",
      "Tolerance for the Iteration  2 :  3372.9536897844123\n",
      "Tolerance for the Iteration  3 :  1991.881215510813\n",
      "Tolerance for the Iteration  4 :  2797.1746134577993\n",
      "Tolerance for the Iteration  5 :  3210.32656870275\n",
      "Tolerance for the Iteration  6 :  3254.535539817598\n",
      "Tolerance for the Iteration  7 :  2098.911349818512\n",
      "Tolerance for the Iteration  8 :  1453.2547841209243\n",
      "Tolerance for the Iteration  9 :  850.3227117701961\n",
      "Tolerance for the Iteration  10 :  535.9610758885685\n",
      "Tolerance for the Iteration  11 :  375.6998356115431\n",
      "Tolerance for the Iteration  12 :  311.52529039892863\n",
      "Tolerance for the Iteration  13 :  287.2111850045258\n",
      "Tolerance for the Iteration  14 :  342.5249741200827\n",
      "Tolerance for the Iteration  15 :  346.0405913317767\n",
      "Tolerance for the Iteration  16 :  592.3488266796495\n",
      "Tolerance for the Iteration  17 :  628.8413423602193\n",
      "Tolerance for the Iteration  18 :  630.6236768150957\n",
      "Tolerance for the Iteration  19 :  484.889541861524\n",
      "Tolerance for the Iteration  20 :  404.46211317980703\n",
      "Tolerance for the Iteration  21 :  420.8463355790959\n",
      "Tolerance for the Iteration  22 :  415.21166614171483\n",
      "Tolerance for the Iteration  23 :  450.0205572693916\n",
      "Tolerance for the Iteration  24 :  463.55917410879044\n",
      "Tolerance for the Iteration  25 :  492.31390930274233\n",
      "Tolerance for the Iteration  26 :  327.2810662113452\n",
      "Tolerance for the Iteration  27 :  309.67559132838016\n",
      "Tolerance for the Iteration  28 :  289.7800699039286\n",
      "Tolerance for the Iteration  29 :  205.96916122004347\n",
      "Tolerance for the Iteration  30 :  155.0699371227759\n",
      "Tolerance for the Iteration  31 :  100.78261198801886\n",
      "Tolerance for the Iteration  32 :  106.82375103196911\n",
      "Tolerance for the Iteration  33 :  74.10410216239626\n",
      "Tolerance for the Iteration  34 :  94.83942505385284\n",
      "Tolerance for the Iteration  35 :  117.53836422527098\n",
      "Tolerance for the Iteration  36 :  127.436198279788\n",
      "Tolerance for the Iteration  37 :  146.51416794135753\n",
      "Tolerance for the Iteration  38 :  89.13776399401931\n",
      "Tolerance for the Iteration  39 :  79.39443588724355\n",
      "Tolerance for the Iteration  40 :  78.59654178674363\n",
      "Tolerance for the Iteration  41 :  55.61383285302599\n",
      "Tolerance for the Iteration  42 :  40.151110474023184\n",
      "Tolerance for the Iteration  43 :  47.74174757281547\n",
      "Tolerance for the Iteration  44 :  30.94138601663561\n",
      "Tolerance for the Iteration  45 :  37.635898700916016\n",
      "Tolerance for the Iteration  46 :  0.0\n"
     ]
    }
   ],
   "source": [
    "model3 = KMeans()\n",
    "centroids3,clusters3 = model3.train_Kmeans(data,10, max_iter = 60,mode=3)"
   ]
  },
  {
   "cell_type": "code",
   "execution_count": 39,
   "metadata": {},
   "outputs": [],
   "source": [
    "Cosine_SSE = model3.calculate_SSE(centroids3,clusters3,data)"
   ]
  },
  {
   "cell_type": "code",
   "execution_count": 40,
   "metadata": {},
   "outputs": [
    {
     "name": "stdout",
     "output_type": "stream",
     "text": [
      "Euclidean SSE: 25400857935.882473\n",
      "Jacard SSE: 34361687572.938736\n",
      "Cosine SSE : 25609570725.782463\n"
     ]
    }
   ],
   "source": [
    "print(\"Euclidean SSE:\",Euclidean_SSE)\n",
    "print(\"Jacard SSE:\",Jaccard_SSE)\n",
    "print(\"Cosine SSE :\",Cosine_SSE)"
   ]
  },
  {
   "cell_type": "code",
   "execution_count": 41,
   "metadata": {},
   "outputs": [
    {
     "data": {
      "text/plain": [
       "array([2, 7, 3, 0, 3, 1, 8, 0, 9, 6])"
      ]
     },
     "execution_count": 41,
     "metadata": {},
     "output_type": "execute_result"
    }
   ],
   "source": [
    "cluster_labels3 = predict_cluster_labels(centroids3,clusters3,labels)\n",
    "cluster_labels3"
   ]
  },
  {
   "cell_type": "code",
   "execution_count": 42,
   "metadata": {},
   "outputs": [
    {
     "data": {
      "text/plain": [
       "0.0775"
      ]
     },
     "execution_count": 42,
     "metadata": {},
     "output_type": "execute_result"
    }
   ],
   "source": [
    "Accuracy_Cosine = accuracy(centroids3, cluster_labels3,test_data,test_labels)\n",
    "Accuracy_Euclidean\n",
    "Accuracy_Jaccard\n",
    "Accuracy_Cosine"
   ]
  },
  {
   "cell_type": "code",
   "execution_count": 43,
   "metadata": {},
   "outputs": [
    {
     "name": "stdout",
     "output_type": "stream",
     "text": [
      "Euclidean accuracy: 0.07625\n",
      "Jacard accuracy: 0.1075\n",
      "Cosine accuracy : 0.0775\n"
     ]
    }
   ],
   "source": [
    "print(\"Euclidean accuracy:\",Accuracy_Euclidean)\n",
    "print(\"Jacard accuracy:\",Accuracy_Jaccard)\n",
    "print(\"Cosine accuracy :\",Accuracy_Cosine)"
   ]
  },
  {
   "cell_type": "code",
   "execution_count": null,
   "metadata": {},
   "outputs": [],
   "source": []
  }
 ],
 "metadata": {
  "kernelspec": {
   "display_name": "Python 3",
   "language": "python",
   "name": "python3"
  },
  "language_info": {
   "codemirror_mode": {
    "name": "ipython",
    "version": 3
   },
   "file_extension": ".py",
   "mimetype": "text/x-python",
   "name": "python",
   "nbconvert_exporter": "python",
   "pygments_lexer": "ipython3",
   "version": "3.8.5"
  }
 },
 "nbformat": 4,
 "nbformat_minor": 4
}
